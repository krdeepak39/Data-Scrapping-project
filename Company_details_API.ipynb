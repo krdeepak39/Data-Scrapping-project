{
  "nbformat": 4,
  "nbformat_minor": 0,
  "metadata": {
    "colab": {
      "provenance": [],
      "authorship_tag": "ABX9TyOXAU0mGDSln77z0Q0vQwIC",
      "include_colab_link": true
    },
    "kernelspec": {
      "name": "python3",
      "display_name": "Python 3"
    },
    "language_info": {
      "name": "python"
    }
  },
  "cells": [
    {
      "cell_type": "markdown",
      "metadata": {
        "id": "view-in-github",
        "colab_type": "text"
      },
      "source": [
        "<a href=\"https://colab.research.google.com/github/krdeepak39/Data-Scrapping-project/blob/main/Company_details_API.ipynb\" target=\"_parent\"><img src=\"https://colab.research.google.com/assets/colab-badge.svg\" alt=\"Open In Colab\"/></a>"
      ]
    },
    {
      "cell_type": "code",
      "execution_count": 1,
      "metadata": {
        "colab": {
          "base_uri": "https://localhost:8080/"
        },
        "id": "vDbHz8Eld5LI",
        "outputId": "3f1088e1-1a64-4237-843f-0838d92c0286"
      },
      "outputs": [
        {
          "output_type": "stream",
          "name": "stdout",
          "text": [
            "Writing app.py\n"
          ]
        }
      ],
      "source": [
        "\n",
        "%%writefile app.py\n",
        "import streamlit as st\n",
        "import requests\n",
        "import csv\n",
        "from io import StringIO\n",
        "\n",
        "# Base URL for API\n",
        "base_url = \"https://api.thecompaniesapi.com/v1/companies\"\n",
        "\n",
        "def fetch_data(url, token):\n",
        "    try:\n",
        "        # Initialize variables\n",
        "        current_page = 1\n",
        "        per_page = 10  # Adjust per_page as needed\n",
        "        total_pages = 1000  # Assuming there are 1000 pages based on 'lastPage' from meta\n",
        "        total_items = 10000  # Total items based on 'total' from meta\n",
        "\n",
        "        # Prepare CSV data in memory\n",
        "        csv_data = StringIO()\n",
        "        csv_writer = csv.writer(csv_data)\n",
        "        headers = ['Name', 'Domain', 'Description Short']\n",
        "        csv_writer.writerow(headers)\n",
        "\n",
        "        # Loop through all pages\n",
        "        while current_page <= total_pages:\n",
        "            # Construct the full URL with token and parameters for 'companies' key\n",
        "            api_url = f\"{url}?token={token}&type=companies&page={current_page}&perPage={per_page}\"\n",
        "\n",
        "            # Making the GET request\n",
        "            response = requests.get(api_url)\n",
        "\n",
        "            # Check if the request was successful\n",
        "            if response.status_code == 200:\n",
        "                # Parse the JSON response data\n",
        "                data = response.json()\n",
        "\n",
        "                # Extract items for the 'companies' key\n",
        "                items = data.get('companies', [])\n",
        "\n",
        "                # Write data to CSV\n",
        "                for item in items:\n",
        "                    name = item.get('name', '')\n",
        "                    domain = item.get('domain', '')\n",
        "                    description = item.get('descriptionShort', '')\n",
        "                    csv_writer.writerow([name, domain, description])\n",
        "\n",
        "                # Move to the next page\n",
        "                current_page += 1\n",
        "\n",
        "            else:\n",
        "                st.error(f\"Failed to retrieve data for page {current_page}. Status code: {response.status_code}\")\n",
        "                st.text(response.text)  # Display the response text for debugging\n",
        "\n",
        "        # Reset the CSV data buffer pointer\n",
        "        csv_data.seek(0)\n",
        "\n",
        "        return csv_data\n",
        "\n",
        "    except requests.RequestException as e:\n",
        "        st.error(f\"Request failed: {e}\")\n",
        "    except Exception as e:\n",
        "        st.error(f\"An error occurred: {e}\")\n",
        "\n",
        "    return None\n",
        "\n",
        "def main():\n",
        "    st.title(\"Fetch Companies Data\")\n",
        "\n",
        "    # Create two columns for input fields\n",
        "    col1, col2 = st.columns(2)\n",
        "\n",
        "    with col1:\n",
        "        url = st.text_input(\"Enter API URL:\")\n",
        "    with col2:\n",
        "        token = st.text_input(\"Enter Token:\")\n",
        "\n",
        "    if st.button(\"Fetch and Download CSV\"):\n",
        "        if url and token:\n",
        "            # Fetch data and create CSV\n",
        "            csv_data = fetch_data(url, token)\n",
        "\n",
        "            if csv_data:\n",
        "                # Provide CSV file for download\n",
        "                st.download_button(label=\"Download CSV\", data=csv_data, file_name='companies_data.csv', mime='text/csv')\n",
        "        else:\n",
        "            st.warning(\"Please enter API URL and Token.\")\n",
        "\n",
        "if __name__ == '__main__':\n",
        "    main()\n"
      ]
    },
    {
      "cell_type": "code",
      "source": [
        "!npm install localtunnel\n"
      ],
      "metadata": {
        "colab": {
          "base_uri": "https://localhost:8080/"
        },
        "id": "EwtuQ07deeeq",
        "outputId": "7663e1f4-b44d-479c-98c8-ece7baa4d845"
      },
      "execution_count": 2,
      "outputs": [
        {
          "output_type": "stream",
          "name": "stdout",
          "text": [
            "\u001b[K\u001b[?25h\u001b[37;40mnpm\u001b[0m \u001b[0m\u001b[30;43mWARN\u001b[0m \u001b[0m\u001b[35msaveError\u001b[0m ENOENT: no such file or directory, open '/content/package.json'\n",
            "\u001b[K\u001b[?25h\u001b[37;40mnpm\u001b[0m \u001b[0m\u001b[34;40mnotice\u001b[0m\u001b[35m\u001b[0m created a lockfile as package-lock.json. You should commit this file.\n",
            "\u001b[0m\u001b[37;40mnpm\u001b[0m \u001b[0m\u001b[30;43mWARN\u001b[0m \u001b[0m\u001b[35menoent\u001b[0m ENOENT: no such file or directory, open '/content/package.json'\n",
            "\u001b[0m\u001b[37;40mnpm\u001b[0m \u001b[0m\u001b[30;43mWARN\u001b[0m\u001b[35m\u001b[0m content No description\n",
            "\u001b[0m\u001b[37;40mnpm\u001b[0m \u001b[0m\u001b[30;43mWARN\u001b[0m\u001b[35m\u001b[0m content No repository field.\n",
            "\u001b[0m\u001b[37;40mnpm\u001b[0m \u001b[0m\u001b[30;43mWARN\u001b[0m\u001b[35m\u001b[0m content No README data\n",
            "\u001b[0m\u001b[37;40mnpm\u001b[0m \u001b[0m\u001b[30;43mWARN\u001b[0m\u001b[35m\u001b[0m content No license field.\n",
            "\u001b[0m\n",
            "+ localtunnel@2.0.2\n",
            "updated 1 package and audited 36 packages in 0.715s\n",
            "\n",
            "3 packages are looking for funding\n",
            "  run `npm fund` for details\n",
            "\n",
            "found 2 \u001b[93mmoderate\u001b[0m severity vulnerabilities\n",
            "  run `npm audit fix` to fix them, or `npm audit` for details\n",
            "\u001b[K\u001b[?25h"
          ]
        }
      ]
    },
    {
      "cell_type": "code",
      "source": [
        "!streamlit run app.py &  curl https://loca.lt/mytunnelpassword"
      ],
      "metadata": {
        "colab": {
          "base_uri": "https://localhost:8080/"
        },
        "id": "1DnejyyohEGB",
        "outputId": "8ffbc6fd-f026-4d6b-e81c-f5484edb07ea"
      },
      "execution_count": 3,
      "outputs": [
        {
          "output_type": "stream",
          "name": "stdout",
          "text": [
            "35.199.175.20"
          ]
        }
      ]
    },
    {
      "cell_type": "code",
      "source": [],
      "metadata": {
        "id": "DeVoogf4hNF4"
      },
      "execution_count": 3,
      "outputs": []
    },
    {
      "cell_type": "code",
      "source": [
        "!npx localtunnel --port 8501"
      ],
      "metadata": {
        "colab": {
          "base_uri": "https://localhost:8080/"
        },
        "id": "gkkzyY9khQyg",
        "outputId": "bca5f247-9432-4909-bcb4-89c53602e5f7"
      },
      "execution_count": 4,
      "outputs": [
        {
          "output_type": "stream",
          "name": "stdout",
          "text": [
            "\u001b[K\u001b[?25hnpx: installed 22 in 3.577s\n",
            "your url is: https://tender-geckos-sleep.loca.lt\n",
            "^C\n"
          ]
        }
      ]
    },
    {
      "cell_type": "code",
      "source": [
        "#base_url = \"https://api.thecompaniesapi.com/v1/companies\"\n",
        "#token = \"4UZIAmsH\"\n"
      ],
      "metadata": {
        "id": "7wRNec0fidoQ"
      },
      "execution_count": 4,
      "outputs": []
    },
    {
      "cell_type": "code",
      "source": [],
      "metadata": {
        "id": "4IYzAUMnimQX"
      },
      "execution_count": 4,
      "outputs": []
    }
  ]
}